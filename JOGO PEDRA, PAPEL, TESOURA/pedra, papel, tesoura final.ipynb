{
 "cells": [
  {
   "cell_type": "code",
   "execution_count": 1,
   "id": "b912b0e8",
   "metadata": {
    "ExecuteTime": {
     "end_time": "2022-03-28T18:15:00.968708Z",
     "start_time": "2022-03-28T18:15:00.956739Z"
    }
   },
   "outputs": [
    {
     "name": "stdout",
     "output_type": "stream",
     "text": [
      "Seja bem vindo! Bora jogar?!\n"
     ]
    }
   ],
   "source": [
    "#definindo as variaveis iniciais\n",
    "vitorias_jogador= 0\n",
    "vitorias_computador= 0\n",
    "escolhas= ['pedra','papel','tesoura']\n",
    "print(f'Seja bem vindo! Bora jogar?!')\n",
    "\n",
    "import random #para escolher elemento aleatorio dentro da lista (opcao do computador)"
   ]
  },
  {
   "cell_type": "code",
   "execution_count": 2,
   "id": "67d46fa9",
   "metadata": {
    "ExecuteTime": {
     "end_time": "2022-03-28T18:15:05.620094Z",
     "start_time": "2022-03-28T18:15:02.569911Z"
    }
   },
   "outputs": [
    {
     "name": "stdout",
     "output_type": "stream",
     "text": [
      "Qual seu nome? \n",
      "Thais\n"
     ]
    }
   ],
   "source": [
    "nome_jogador = input(f'Qual seu nome? \\n')"
   ]
  },
  {
   "cell_type": "code",
   "execution_count": 3,
   "id": "5a666799",
   "metadata": {
    "ExecuteTime": {
     "end_time": "2022-03-28T18:15:06.937755Z",
     "start_time": "2022-03-28T18:15:06.928778Z"
    }
   },
   "outputs": [
    {
     "name": "stdout",
     "output_type": "stream",
     "text": [
      "ok Thais, vamos começar!\n"
     ]
    }
   ],
   "source": [
    "print(f'ok {nome_jogador}, vamos começar!')"
   ]
  },
  {
   "cell_type": "code",
   "execution_count": 4,
   "id": "65b1160e",
   "metadata": {
    "ExecuteTime": {
     "end_time": "2022-03-28T18:15:10.433036Z",
     "start_time": "2022-03-28T18:15:10.413281Z"
    }
   },
   "outputs": [
    {
     "name": "stdout",
     "output_type": "stream",
     "text": [
      "Escolha entre pedra, papel, tesoura!\n"
     ]
    }
   ],
   "source": [
    "print(f'Escolha entre pedra, papel, tesoura!')"
   ]
  },
  {
   "cell_type": "code",
   "execution_count": 5,
   "id": "027a8114",
   "metadata": {
    "ExecuteTime": {
     "end_time": "2022-03-28T18:15:13.972259Z",
     "start_time": "2022-03-28T18:15:13.958507Z"
    }
   },
   "outputs": [],
   "source": [
    "def jogador(escolhas):\n",
    "    '''retorna a escolha do jogador entre pedra, papel, tesoura\n",
    "    args: escolhas- escolha entre a lista definida [pedra, papel, tesoura]\n",
    "    exemplo:def jogador(escolhas) vai retornar entre pedra, papel, tesoura '''\n",
    "    escolha_do_jogador = ''\n",
    "    while escolha_do_jogador not in escolhas:\n",
    "        \n",
    "        escolha_do_jogador= input(f'Por favor escolha uma opcao \\n').lower()\n",
    "\n",
    "        if escolha_do_jogador in ['pedra', 'tesoura', 'papel']: #o jogador pode escrver de varias maneiras\n",
    "            print(f'Voce escolheu {escolha_do_jogador}' )\n",
    "        else:\n",
    "             print(f'A opçao escolhida nao é valida')\n",
    "         \n",
    "    return escolha_do_jogador"
   ]
  },
  {
   "cell_type": "code",
   "execution_count": 6,
   "id": "84174414",
   "metadata": {
    "ExecuteTime": {
     "end_time": "2022-03-28T18:15:18.787783Z",
     "start_time": "2022-03-28T18:15:18.775815Z"
    }
   },
   "outputs": [],
   "source": [
    "def escolha_do_computador(escolhas):\n",
    "    '''essa funçao faz a escolha do computador, aleatoriamente entre pedra, papel, tesoura\n",
    "    arg: escolhas- lista [pedra, papel, tesoura]\n",
    "    exemplo: def escolhas_do_computador retorna uma opçao dentro da lista'''\n",
    "    \n",
    "    return random.choice(escolhas)\n",
    "    print(escolha_do_computador)\n",
    "\n",
    "            \n",
    "\n"
   ]
  },
  {
   "cell_type": "code",
   "execution_count": null,
   "id": "497d503a",
   "metadata": {
    "ExecuteTime": {
     "start_time": "2022-03-28T18:19:23.685Z"
    }
   },
   "outputs": [],
   "source": [
    "\n",
    "    computador_jogando = escolha_do_computador(escolhas) #chamando as funçoes definidas acima com uma variavel\n",
    "    jogador_jogando = jogador(escolhas)\n",
    "     #colocar uma condiçao onde o jagores ganharia em todas as opcoes \n",
    "while jogador_jogando:\n",
    "        if (jogador_jogando == 'papel' and computador_jogando == 'pedra') or (jogador_jogando == 'tesoura' and computador_jogando == 'papel') or (jogador_jogando == 'pedra' and computador_jogando == 'tesoura'):\n",
    "                print(f'Parabens voce ganhou! Vamos jogar de novo?')\n",
    "                vitorias_jogador +=1\n",
    "                \n",
    "        elif (computador_jogando == 'papel' and jogador_jogando == 'pedra') or (computador_jogando == 'tesoura' and jogador_jogando == 'papel') or (computador_jogando == 'pedra' and jogador_jogando == 'tesoura'):\n",
    "                print(f'Que pena! Vamos tentar de novo?')\n",
    "                vitorias_computador +=1\n",
    "                \n",
    "        elif computador_jogando == jogador_jogando:\n",
    "                print (f'Quase lá, quer tentar desempatar essa disputa?')\n",
    "        else:\n",
    "                print(f'Que pena, voce perdeu, mas nao desanime! Vamos tentar novamente?')\n",
    "                vitorias_computador +=1\n",
    "        print(f'vitorias do computador = {vitorias_computador}')\n",
    "        print(f'vitorias do jogador = {vitorias_jogador}')\n",
    "        \n",
    "       else:\n",
    "              break"
   ]
  }
 ],
 "metadata": {
  "kernelspec": {
   "display_name": "Python 3",
   "language": "python",
   "name": "python3"
  },
  "language_info": {
   "codemirror_mode": {
    "name": "ipython",
    "version": 3
   },
   "file_extension": ".py",
   "mimetype": "text/x-python",
   "name": "python",
   "nbconvert_exporter": "python",
   "pygments_lexer": "ipython3",
   "version": "3.8.8"
  },
  "toc": {
   "base_numbering": 1,
   "nav_menu": {},
   "number_sections": true,
   "sideBar": true,
   "skip_h1_title": false,
   "title_cell": "Table of Contents",
   "title_sidebar": "Contents",
   "toc_cell": false,
   "toc_position": {},
   "toc_section_display": true,
   "toc_window_display": false
  },
  "varInspector": {
   "cols": {
    "lenName": 16,
    "lenType": 16,
    "lenVar": 40
   },
   "kernels_config": {
    "python": {
     "delete_cmd_postfix": "",
     "delete_cmd_prefix": "del ",
     "library": "var_list.py",
     "varRefreshCmd": "print(var_dic_list())"
    },
    "r": {
     "delete_cmd_postfix": ") ",
     "delete_cmd_prefix": "rm(",
     "library": "var_list.r",
     "varRefreshCmd": "cat(var_dic_list()) "
    }
   },
   "types_to_exclude": [
    "module",
    "function",
    "builtin_function_or_method",
    "instance",
    "_Feature"
   ],
   "window_display": false
  }
 },
 "nbformat": 4,
 "nbformat_minor": 5
}
